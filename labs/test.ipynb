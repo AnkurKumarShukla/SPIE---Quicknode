{
 "cells": [
  {
   "cell_type": "code",
   "execution_count": 4,
   "metadata": {},
   "outputs": [
    {
     "name": "stdout",
     "output_type": "stream",
     "text": [
      "{\"jsonrpc\":\"2.0\",\"id\":67,\"result\":{\"address\":\"0xd8da6bf26964af9d7eed9e03e53415d37aa96045\",\"ensName\":\"vitalik.eth\",\"paginatedItems\":[{\"blockTimestamp\":\"2024-10-03T01:23:59.000Z\",\"transactionHash\":\"0x488aa9484897a73e95c0a1fa206f985d5d03eb811ec2b842b91a983f5874d50d\",\"blockNumber\":\"20881680\",\"transactionIndex\":80,\"fromAddress\":\"0xdc9a291bb4e2d128b5557eb5afd1b9a6364579a8\",\"toAddress\":\"0xd8da6bf26964af9d7eed9e03e53415d37aa96045\",\"contractAddress\":null,\"value\":\"0\",\"status\":\"success\"},{\"blockTimestamp\":\"2024-10-03T01:23:23.000Z\",\"transactionHash\":\"0xdf1812bddb7485fc967f117bb12ab91de7d96a5802be1d216c885939e7885cbd\",\"blockNumber\":\"20881677\",\"transactionIndex\":133,\"fromAddress\":\"0xdc9a291bb4e2d128b5557eb5afd1b9a6364579a8\",\"toAddress\":\"0xd8da6bf26964af9d7eed9e03e53415d37aa96045\",\"contractAddress\":null,\"value\":\"0\",\"status\":\"success\"},{\"blockTimestamp\":\"2024-10-03T01:20:11.000Z\",\"transactionHash\":\"0xc170ba4c185b339829ac7b85ee82ebecc257700d6cc8b7e05a9ef8bcf8781c46\",\"blockNumber\":\"20881661\",\"transactionIndex\":138,\"fromAddress\":\"0xdc9a291bb4e2d128b5557eb5afd1b9a6364579a8\",\"toAddress\":\"0xd8da6bf26964af9d7eed9e03e53415d37aa96045\",\"contractAddress\":null,\"value\":\"0\",\"status\":\"success\"},{\"blockTimestamp\":\"2024-10-03T01:08:47.000Z\",\"transactionHash\":\"0x676e92ceee7c537a4455df4cb14343d98c31abeca44ee4026f0abef598129f97\",\"blockNumber\":\"20881604\",\"transactionIndex\":223,\"fromAddress\":\"0xdc9a291bb4e2d128b5557eb5afd1b9a6364579a8\",\"toAddress\":\"0xd8da6bf26964af9d7eed9e03e53415d37aa96045\",\"contractAddress\":null,\"value\":\"0\",\"status\":\"success\"},{\"blockTimestamp\":\"2024-09-29T17:39:59.000Z\",\"transactionHash\":\"0xbbde765d8e859b72aa5c7c34f7a4dcf4a9eb1c60bbd6ba1bce73f12138d42f6d\",\"blockNumber\":\"20857849\",\"transactionIndex\":38,\"fromAddress\":\"0x2255cd9b28e07ee5ab29e21747704576ef82a5bd\",\"toAddress\":\"0xd8da6bf26964af9d7eed9e03e53415d37aa96045\",\"contractAddress\":null,\"value\":\"0\",\"status\":\"success\"},{\"blockTimestamp\":\"2024-09-29T11:39:35.000Z\",\"transactionHash\":\"0x936a2b75dfafc1f617d95ad2f88d857d1f10c94279857884c8be79bff0173bb8\",\"blockNumber\":\"20856053\",\"transactionIndex\":86,\"fromAddress\":\"0xd8da6bf26964af9d7eed9e03e53415d37aa96045\",\"toAddress\":\"0xf20784fb0047fe897919b1cd4264dad364c9d5a3\",\"contractAddress\":null,\"value\":\"0\",\"status\":\"success\"},{\"blockTimestamp\":\"2024-09-28T18:50:59.000Z\",\"transactionHash\":\"0x6e6eea98ff09621f97f272d56eeddd864807116f3c14b281bccd12106bb2a27c\",\"blockNumber\":\"20851039\",\"transactionIndex\":64,\"fromAddress\":\"0x01ddb005ea464b1e15d428a4150e98f2d7410151\",\"toAddress\":\"0xd8da6bf26964af9d7eed9e03e53415d37aa96045\",\"contractAddress\":null,\"value\":\"2193025118927175\",\"status\":\"success\"},{\"blockTimestamp\":\"2024-09-28T09:18:23.000Z\",\"transactionHash\":\"0x2b6bb2b6159d1ac30c2bff692b845931a0471959d004c8a2d181ef41ee7eee3d\",\"blockNumber\":\"20848187\",\"transactionIndex\":59,\"fromAddress\":\"0xd8da6bf26964af9d7eed9e03e53415d37aa96045\",\"toAddress\":\"0x231b0ee14048e9dccd1d247744d114a4eb5e8e63\",\"contractAddress\":null,\"value\":\"0\",\"status\":\"success\"},{\"blockTimestamp\":\"2024-09-28T09:00:11.000Z\",\"transactionHash\":\"0xdd2616503b99d8a1e6418813d5e7f703da3e3ff86156389de94826c05e0299b5\",\"blockNumber\":\"20848096\",\"transactionIndex\":35,\"fromAddress\":\"0xd8da6bf26964af9d7eed9e03e53415d37aa96045\",\"toAddress\":\"0x231b0ee14048e9dccd1d247744d114a4eb5e8e63\",\"contractAddress\":null,\"value\":\"0\",\"status\":\"success\"},{\"blockTimestamp\":\"2024-09-28T08:45:11.000Z\",\"transactionHash\":\"0xafb0905e32b11e79fc7fb4358c4b1417b8596f1cf59f53619af4f35d8fdde007\",\"blockNumber\":\"20848021\",\"transactionIndex\":102,\"fromAddress\":\"0xd8da6bf26964af9d7eed9e03e53415d37aa96045\",\"toAddress\":\"0x231b0ee14048e9dccd1d247744d114a4eb5e8e63\",\"contractAddress\":null,\"value\":\"0\",\"status\":\"success\"}],\"totalPages\":478,\"totalItems\":4780,\"pageNumber\":1}}\n"
     ]
    }
   ],
   "source": [
    "import requests\n",
    "import json\n",
    "\n",
    "url = \"https://docs-demo.quiknode.pro/\"\n",
    "\n",
    "payload = json.dumps({\n",
    "  \"id\": 67,\n",
    "  \"jsonrpc\": \"2.0\",\n",
    "  \"method\": \"qn_getTransactionsByAddress\",\n",
    "  \"params\": [{\n",
    "    \"address\": \"0xd8da6bf26964af9d7eed9e03e53415d37aa96045\",\n",
    "    \"page\": 1,\n",
    "    \"perPage\": 10\n",
    "  }]\n",
    "})\n",
    "headers = {\n",
    "  'Content-Type': 'application/json',\n",
    "  \"x-api-key\": \"QN_2ac871f06d83430eb609e72d04d2dd17\"\n",
    "}\n",
    "# headers = {\n",
    "#     \"accept\": \"application/json\",\n",
    "#     \"Content-Type\": \"application/json\",\n",
    "#     \"x-api-key\": \"YOUR_API_KEY\"  # Replace with your actual API key\n",
    "# }\n",
    "\n",
    "response = requests.request(\"POST\", url, headers=headers, data=payload)\n",
    "\n",
    "print(response.text)\n"
   ]
  },
  {
   "cell_type": "code",
   "execution_count": 3,
   "metadata": {},
   "outputs": [],
   "source": [
    "# to activate python env in window \n",
    "! ."
   ]
  },
  {
   "cell_type": "code",
   "execution_count": null,
   "metadata": {},
   "outputs": [],
   "source": [
    "\n"
   ]
  },
  {
   "cell_type": "code",
   "execution_count": null,
   "metadata": {},
   "outputs": [],
   "source": []
  }
 ],
 "metadata": {
  "kernelspec": {
   "display_name": "qnodeenv",
   "language": "python",
   "name": "python3"
  },
  "language_info": {
   "codemirror_mode": {
    "name": "ipython",
    "version": 3
   },
   "file_extension": ".py",
   "mimetype": "text/x-python",
   "name": "python",
   "nbconvert_exporter": "python",
   "pygments_lexer": "ipython3",
   "version": "3.11.9"
  }
 },
 "nbformat": 4,
 "nbformat_minor": 2
}
